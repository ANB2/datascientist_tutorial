{
 "metadata": {
  "name": "statsmodels_tutorial"
 },
 "nbformat": 3,
 "nbformat_minor": 0,
 "worksheets": [
  {
   "cells": [
    {
     "cell_type": "markdown",
     "metadata": {},
     "source": [
      "About me\n",
      "========\n",
      "\n",
      "Name: Thomas Wiecki\n",
      "\n",
      "Twitter: https://twitter.com/twiecki\n",
      "\n",
      "GitHub: http://github.com/twiecki\n",
      "\n",
      "Occupation: \n",
      "\n",
      "* PhD student in computational cognitive neuroscience at Brown University\n",
      "* Quantitative Researcher at Quantopian ( http://www.Quantopian.com )\n",
      "  * Online platform to develop trading algorithms that get backtested on historical financial data\n",
      "  * Easy to use web-based Python IDE\n",
      "  * Great beginner-firendly community.\n",
      "\n",
      "\n",
      "_Not_ a statsmodels developer but a statsmodels user."
     ]
    },
    {
     "cell_type": "markdown",
     "metadata": {},
     "source": [
      "Basics\n",
      "======\n",
      "\n",
      "* Docs: http://statsmodels.sf.net\n",
      "* Github: http://github.com/statsmodels/statsmodels\n",
      "* Mailing list: https://groups.google.com/group/pystatsmodels\n",
      "\n",
      "Here are the dependency packages we will use during the tutorial, basic stuff."
     ]
    },
    {
     "cell_type": "code",
     "collapsed": false,
     "input": [
      "import numpy as np\n",
      "import statsmodels.api as sm\n",
      "import matplotlib.pyplot as plt\n",
      "import pandas\n",
      "from scipy import stats\n",
      "\n",
      "np.set_printoptions(precision=4, suppress=True)\n",
      "pandas.set_printoptions(notebook_repr_html=False,\n",
      "                        precision=4,\n",
      "                        max_columns=12)"
     ],
     "language": "python",
     "metadata": {},
     "outputs": [],
     "prompt_number": 3
    },
    {
     "cell_type": "heading",
     "level": 3,
     "metadata": {},
     "source": [
      "Statsmodels Import Convention"
     ]
    },
    {
     "cell_type": "code",
     "collapsed": false,
     "input": [
      "import statsmodels.api as sm"
     ],
     "language": "python",
     "metadata": {},
     "outputs": [],
     "prompt_number": 5
    },
    {
     "cell_type": "markdown",
     "metadata": {},
     "source": [
      "Current import convention for models for which a formula is available. **This may change in the next release.**"
     ]
    },
    {
     "cell_type": "code",
     "collapsed": false,
     "input": [
      "from statsmodels.formula.api import ols, rlm, glm #etc."
     ],
     "language": "python",
     "metadata": {},
     "outputs": [],
     "prompt_number": 6
    },
    {
     "cell_type": "heading",
     "level": 3,
     "metadata": {},
     "source": [
      "Package Overview"
     ]
    },
    {
     "cell_type": "markdown",
     "metadata": {},
     "source": [
      "Regression models in statsmodels.regression\n",
      "\n",
      "Discrete choice models in statsmodels.discrete\n",
      "\n",
      "Robust linear models in statsmodels.robust\n",
      "\n",
      "Generalized linear models in statsmodels.genmod\n",
      "\n",
      "Time Series Analysis in statsmodels.tsa\n",
      "\n",
      "Nonparametric models in statsmodels.nonparametric\n",
      "\n",
      "Plotting functions in statsmodels.graphics\n",
      "\n",
      "Input/Output in statsmodels.iolib (Foreign data, ascii, HTML,  $\\LaTeX$ tables)\n",
      "\n",
      "Statistical tests, ANOVA in statsmodels.stats\n",
      "\n",
      "Datasets in statsmodels.datasets (See also the new GPL package Rdatasets: https://github.com/vincentarelbundock/Rdatasets)"
     ]
    },
    {
     "cell_type": "heading",
     "level": 2,
     "metadata": {},
     "source": [
      "Next up: Linear Models. Please go back to the notebook viewer and open the linear_models_tut notebook."
     ]
    }
   ],
   "metadata": {}
  }
 ]
}