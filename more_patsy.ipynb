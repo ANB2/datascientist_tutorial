{
 "metadata": {
  "name": "more_patsy"
 },
 "nbformat": 3,
 "nbformat_minor": 0,
 "worksheets": [
  {
   "cells": [
    {
     "cell_type": "code",
     "collapsed": false,
     "input": [
      "import numpy as np\n",
      "import statsmodels.api as sm\n",
      "import matplotlib.pyplot as plt\n",
      "import pandas\n",
      "from scipy import stats\n",
      "\n",
      "np.set_printoptions(precision=4, suppress=True)\n",
      "pandas.set_printoptions(notebook_repr_html=False,\n",
      "                        precision=4,\n",
      "                        max_columns=12)\n",
      "\n"
     ],
     "language": "python",
     "metadata": {},
     "outputs": [],
     "prompt_number": 1
    },
    {
     "cell_type": "code",
     "collapsed": false,
     "input": [
      "import pandas\n",
      "import statsmodels.api as sm\n",
      "import numpy as np\n",
      "\n",
      "from statsmodels.formula.api import ols\n",
      "\n",
      "url = \"http://www.ats.ucla.edu/stat/mult_pkg/faq/general/lgtrans.csv\"\n",
      "data = pandas.read_csv(url)\n",
      "model = \"write ~ C(female) + np.log(math) + np.log(read)\"\n",
      "test_scores = ols(model, data).fit()\n",
      "print test_scores.summary()"
     ],
     "language": "python",
     "metadata": {},
     "outputs": [
      {
       "output_type": "stream",
       "stream": "stdout",
       "text": [
        "                            OLS Regression Results                            \n",
        "==============================================================================\n",
        "Dep. Variable:                  write   R-squared:                       0.530\n",
        "Model:                            OLS   Adj. R-squared:                  0.523\n",
        "Method:                 Least Squares   F-statistic:                     73.70\n",
        "Date:                Fri, 30 Nov 2012   Prob (F-statistic):           5.92e-32\n",
        "Time:                        12:21:04   Log-Likelihood:                -657.58\n",
        "No. Observations:                 200   AIC:                             1323.\n",
        "Df Residuals:                     196   BIC:                             1336.\n",
        "Df Model:                           3                                         \n",
        "=====================================================================================\n",
        "                        coef    std err          t      P>|t|      [95.0% Conf. Int.]\n",
        "-------------------------------------------------------------------------------------\n",
        "Intercept           -93.7752     10.766     -8.710      0.000      -115.007   -72.543\n",
        "C(female)[T.male]    -5.3888      0.931     -5.789      0.000        -7.224    -3.553\n",
        "np.log(math)         20.9410      3.431      6.104      0.000        14.175    27.707\n",
        "np.log(read)         16.8522      3.063      5.501      0.000        10.811    22.894\n",
        "==============================================================================\n",
        "Omnibus:                        2.259   Durbin-Watson:                   1.999\n",
        "Prob(Omnibus):                  0.323   Jarque-Bera (JB):                2.286\n",
        "Skew:                          -0.253   Prob(JB):                        0.319\n",
        "Kurtosis:                       2.866   Cond. No.                         135.\n",
        "==============================================================================\n"
       ]
      }
     ],
     "prompt_number": 7
    },
    {
     "cell_type": "code",
     "collapsed": false,
     "input": [
      "X = [['female', 65, 70]]\n",
      "X = pandas.DataFrame(X, columns=[\"female\", \"math\", \"read\"])\n",
      "print test_scores.predict(X)"
     ],
     "language": "python",
     "metadata": {},
     "outputs": [
      {
       "output_type": "stream",
       "stream": "stdout",
       "text": [
        "[ 65.2369]\n"
       ]
      }
     ],
     "prompt_number": 10
    },
    {
     "cell_type": "code",
     "collapsed": false,
     "input": [
      "X = dict(female=['female'], read=[70], math=[65])\n",
      "print test_scores.predict(X)"
     ],
     "language": "python",
     "metadata": {},
     "outputs": [
      {
       "output_type": "stream",
       "stream": "stdout",
       "text": [
        "[ 65.2369]\n"
       ]
      }
     ],
     "prompt_number": 9
    },
    {
     "cell_type": "raw",
     "metadata": {},
     "source": [
      "Operator\t            Meaning\n",
      "   ~        Separate the left-hand side from the right-hand side. If omitted, formula is assumed right-hand side only.\n",
      "   +        Combines terms on either side (set union).\n",
      "   -        Removes terms on the right from set of terms on the left (set difference).\n",
      "   *        a*b is shorthand for the expansion a + b + a:b.\n",
      "   /        a/b is shorthand for the expansion a + a:b. It is used when b is nested within a (e.g., states and counties)\n",
      "   :        Computes the interaction between terms on the left and right.\n",
      "   **       Takes a set of terms on the left and an integer n on the right and computes the * of that set of terms with itself n times."
     ]
    },
    {
     "cell_type": "code",
     "collapsed": false,
     "input": [],
     "language": "python",
     "metadata": {},
     "outputs": []
    }
   ],
   "metadata": {}
  }
 ]
}